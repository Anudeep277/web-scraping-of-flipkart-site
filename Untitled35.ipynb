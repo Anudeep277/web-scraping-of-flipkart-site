{
  "nbformat": 4,
  "nbformat_minor": 0,
  "metadata": {
    "colab": {
      "name": "Untitled35.ipynb",
      "provenance": []
    },
    "kernelspec": {
      "name": "python3",
      "display_name": "Python 3"
    }
  },
  "cells": [
    {
      "cell_type": "code",
      "metadata": {
        "id": "2uBoondRZjxA",
        "colab_type": "code",
        "colab": {}
      },
      "source": [
        "import requests\n",
        "from bs4 import BeautifulSoup\n",
        "import pandas as pd"
      ],
      "execution_count": 35,
      "outputs": []
    },
    {
      "cell_type": "code",
      "metadata": {
        "id": "0MwTeYCqZr_2",
        "colab_type": "code",
        "colab": {}
      },
      "source": [
        "arjun=requests.get(\"https://www.flipkart.com/search?q=latest+mobiles&sid=tyy%2C4io&as=on&as-show=on&otracker=AS_QueryStore_OrganicAutoSuggest_1_7_na_na_na&otracker1=AS_QueryStore_OrganicAutoSuggest_1_7_na_na_na&as-pos=1&as-type=RECENT&suggestionId=latest+mobiles%7CMobiles&requestId=1e2f593d-1853-497b-8775-15e0360fab8f&as-searchtext=latest%20\")"
      ],
      "execution_count": 25,
      "outputs": []
    },
    {
      "cell_type": "code",
      "metadata": {
        "id": "0s4ZIBqNZsCz",
        "colab_type": "code",
        "colab": {
          "base_uri": "https://localhost:8080/",
          "height": 34
        },
        "outputId": "45e74fe1-9e36-4a5b-c599-f918ec0b773a"
      },
      "source": [
        "arjun.status_code"
      ],
      "execution_count": 26,
      "outputs": [
        {
          "output_type": "execute_result",
          "data": {
            "text/plain": [
              "200"
            ]
          },
          "metadata": {
            "tags": []
          },
          "execution_count": 26
        }
      ]
    },
    {
      "cell_type": "code",
      "metadata": {
        "id": "LD50XdVnbJ5v",
        "colab_type": "code",
        "colab": {}
      },
      "source": [
        "soup=BeautifulSoup(arjun.text,\"lxml\")"
      ],
      "execution_count": 27,
      "outputs": []
    },
    {
      "cell_type": "code",
      "metadata": {
        "id": "8-BMjglsbJ8N",
        "colab_type": "code",
        "colab": {}
      },
      "source": [
        "name=soup.select(\"._3wU53n\")"
      ],
      "execution_count": 29,
      "outputs": []
    },
    {
      "cell_type": "code",
      "metadata": {
        "id": "Y22reD4zaj82",
        "colab_type": "code",
        "colab": {}
      },
      "source": [
        "price=soup.select(\"._6BWGkk\")"
      ],
      "execution_count": 30,
      "outputs": []
    },
    {
      "cell_type": "code",
      "metadata": {
        "id": "hpEsJzZnaj_k",
        "colab_type": "code",
        "colab": {}
      },
      "source": [
        "details=pd.DataFrame(columns={\"Name\",\"Price\"})"
      ],
      "execution_count": 36,
      "outputs": []
    },
    {
      "cell_type": "code",
      "metadata": {
        "id": "taFt57fHakDG",
        "colab_type": "code",
        "colab": {}
      },
      "source": [
        "l=0\n",
        "for i,j in zip(name,price):\n",
        "    details.loc[l]=i.text,j.text;\n",
        "    l+=1"
      ],
      "execution_count": 38,
      "outputs": []
    },
    {
      "cell_type": "code",
      "metadata": {
        "id": "qqxyDUx2ZsFm",
        "colab_type": "code",
        "colab": {
          "base_uri": "https://localhost:8080/",
          "height": 437
        },
        "outputId": "fc0f0444-1365-4e39-f286-729c893a6580"
      },
      "source": [
        "print(details)"
      ],
      "execution_count": 39,
      "outputs": [
        {
          "output_type": "stream",
          "text": [
            "                                     Price                   Name\n",
            "0           Realme C11 (Rich Green, 32 GB)    ₹7,499₹8,99916% off\n",
            "1            Realme C11 (Rich Grey, 32 GB)    ₹7,499₹8,99916% off\n",
            "2              POCO M2 (Slate Blue, 64 GB)  ₹10,999₹12,99915% off\n",
            "3              Realme 7 (Mist Blue, 64 GB)  ₹14,999₹17,99916% off\n",
            "4             Realme 7 (Mist Blue, 128 GB)  ₹16,999₹20,99919% off\n",
            "5            Realme 7 (Mist White, 128 GB)  ₹16,999₹20,99919% off\n",
            "6             Realme 7 (Mist White, 64 GB)  ₹14,999₹17,99916% off\n",
            "7             POCO M2 (Slate Blue, 128 GB)  ₹12,499₹14,99916% off\n",
            "8             POCO M2 (Pitch Black, 64 GB)  ₹10,999₹12,99915% off\n",
            "9     Realme Narzo 10 (That Green, 128 GB)   ₹11,999₹12,9997% off\n",
            "10    Realme Narzo 10 (That White, 128 GB)   ₹11,999₹12,9997% off\n",
            "11           Realme 5i (Aqua Blue, 128 GB)                ₹11,999\n",
            "12     Realme Narzo 10 (That Blue, 128 GB)   ₹11,999₹12,9997% off\n",
            "13       Infinix Hot 9 (Ocean Wave, 64 GB)   ₹9,499₹11,99920% off\n",
            "14           Infinix Hot 9 (Violet, 64 GB)   ₹9,499₹11,99920% off\n",
            "15          Realme 6i (Lunar White, 64 GB)  ₹12,999₹14,99913% off\n",
            "16         POCO X2 (Atlantis Blue, 128 GB)   ₹18,499₹19,9997% off\n",
            "17        Realme 6i (Eclipse Black, 64 GB)  ₹12,999₹14,99913% off\n",
            "18          Realme C3 (Frozen Blue, 32 GB)                 ₹8,999\n",
            "19         Realme C3 (Volcano Grey, 64 GB)                 ₹9,999\n",
            "20          Realme C15 (Power Blue, 64 GB)  ₹10,999₹12,99915% off\n",
            "21        Realme C15 (Power Silver, 64 GB)  ₹10,999₹12,99915% off\n",
            "22         POCO X2 (Matrix Purple, 128 GB)   ₹18,499₹19,9997% off\n",
            "23  POCO M2 Pro (Green and Greener, 64 GB)  ₹13,999₹16,99917% off\n"
          ],
          "name": "stdout"
        }
      ]
    },
    {
      "cell_type": "code",
      "metadata": {
        "id": "Hq79JHOmgREu",
        "colab_type": "code",
        "colab": {}
      },
      "source": [
        "details.to_excel(\"/content/Book1.xlsx\")"
      ],
      "execution_count": 45,
      "outputs": []
    },
    {
      "cell_type": "code",
      "metadata": {
        "id": "Ump1bbscgRJ1",
        "colab_type": "code",
        "colab": {}
      },
      "source": [
        "data=pd.read_excel(\"/content/Book1.xlsx\",index_col=[0])"
      ],
      "execution_count": 68,
      "outputs": []
    },
    {
      "cell_type": "code",
      "metadata": {
        "id": "z-e2rxUCiLoI",
        "colab_type": "code",
        "colab": {
          "base_uri": "https://localhost:8080/",
          "height": 758
        },
        "outputId": "4753f2eb-17ed-4f03-a6ab-54fa904c8aa6"
      },
      "source": [
        "data"
      ],
      "execution_count": 69,
      "outputs": [
        {
          "output_type": "execute_result",
          "data": {
            "text/html": [
              "<div>\n",
              "<style scoped>\n",
              "    .dataframe tbody tr th:only-of-type {\n",
              "        vertical-align: middle;\n",
              "    }\n",
              "\n",
              "    .dataframe tbody tr th {\n",
              "        vertical-align: top;\n",
              "    }\n",
              "\n",
              "    .dataframe thead th {\n",
              "        text-align: right;\n",
              "    }\n",
              "</style>\n",
              "<table border=\"1\" class=\"dataframe\">\n",
              "  <thead>\n",
              "    <tr style=\"text-align: right;\">\n",
              "      <th></th>\n",
              "      <th>Price</th>\n",
              "      <th>Name</th>\n",
              "    </tr>\n",
              "  </thead>\n",
              "  <tbody>\n",
              "    <tr>\n",
              "      <th>0</th>\n",
              "      <td>Realme C11 (Rich Green, 32 GB)</td>\n",
              "      <td>₹7,499₹8,99916% off</td>\n",
              "    </tr>\n",
              "    <tr>\n",
              "      <th>1</th>\n",
              "      <td>Realme C11 (Rich Grey, 32 GB)</td>\n",
              "      <td>₹7,499₹8,99916% off</td>\n",
              "    </tr>\n",
              "    <tr>\n",
              "      <th>2</th>\n",
              "      <td>POCO M2 (Slate Blue, 64 GB)</td>\n",
              "      <td>₹10,999₹12,99915% off</td>\n",
              "    </tr>\n",
              "    <tr>\n",
              "      <th>3</th>\n",
              "      <td>Realme 7 (Mist Blue, 64 GB)</td>\n",
              "      <td>₹14,999₹17,99916% off</td>\n",
              "    </tr>\n",
              "    <tr>\n",
              "      <th>4</th>\n",
              "      <td>Realme 7 (Mist Blue, 128 GB)</td>\n",
              "      <td>₹16,999₹20,99919% off</td>\n",
              "    </tr>\n",
              "    <tr>\n",
              "      <th>5</th>\n",
              "      <td>Realme 7 (Mist White, 128 GB)</td>\n",
              "      <td>₹16,999₹20,99919% off</td>\n",
              "    </tr>\n",
              "    <tr>\n",
              "      <th>6</th>\n",
              "      <td>Realme 7 (Mist White, 64 GB)</td>\n",
              "      <td>₹14,999₹17,99916% off</td>\n",
              "    </tr>\n",
              "    <tr>\n",
              "      <th>7</th>\n",
              "      <td>POCO M2 (Slate Blue, 128 GB)</td>\n",
              "      <td>₹12,499₹14,99916% off</td>\n",
              "    </tr>\n",
              "    <tr>\n",
              "      <th>8</th>\n",
              "      <td>POCO M2 (Pitch Black, 64 GB)</td>\n",
              "      <td>₹10,999₹12,99915% off</td>\n",
              "    </tr>\n",
              "    <tr>\n",
              "      <th>9</th>\n",
              "      <td>Realme Narzo 10 (That Green, 128 GB)</td>\n",
              "      <td>₹11,999₹12,9997% off</td>\n",
              "    </tr>\n",
              "    <tr>\n",
              "      <th>10</th>\n",
              "      <td>Realme Narzo 10 (That White, 128 GB)</td>\n",
              "      <td>₹11,999₹12,9997% off</td>\n",
              "    </tr>\n",
              "    <tr>\n",
              "      <th>11</th>\n",
              "      <td>Realme 5i (Aqua Blue, 128 GB)</td>\n",
              "      <td>₹11,999</td>\n",
              "    </tr>\n",
              "    <tr>\n",
              "      <th>12</th>\n",
              "      <td>Realme Narzo 10 (That Blue, 128 GB)</td>\n",
              "      <td>₹11,999₹12,9997% off</td>\n",
              "    </tr>\n",
              "    <tr>\n",
              "      <th>13</th>\n",
              "      <td>Infinix Hot 9 (Ocean Wave, 64 GB)</td>\n",
              "      <td>₹9,499₹11,99920% off</td>\n",
              "    </tr>\n",
              "    <tr>\n",
              "      <th>14</th>\n",
              "      <td>Infinix Hot 9 (Violet, 64 GB)</td>\n",
              "      <td>₹9,499₹11,99920% off</td>\n",
              "    </tr>\n",
              "    <tr>\n",
              "      <th>15</th>\n",
              "      <td>Realme 6i (Lunar White, 64 GB)</td>\n",
              "      <td>₹12,999₹14,99913% off</td>\n",
              "    </tr>\n",
              "    <tr>\n",
              "      <th>16</th>\n",
              "      <td>POCO X2 (Atlantis Blue, 128 GB)</td>\n",
              "      <td>₹18,499₹19,9997% off</td>\n",
              "    </tr>\n",
              "    <tr>\n",
              "      <th>17</th>\n",
              "      <td>Realme 6i (Eclipse Black, 64 GB)</td>\n",
              "      <td>₹12,999₹14,99913% off</td>\n",
              "    </tr>\n",
              "    <tr>\n",
              "      <th>18</th>\n",
              "      <td>Realme C3 (Frozen Blue, 32 GB)</td>\n",
              "      <td>₹8,999</td>\n",
              "    </tr>\n",
              "    <tr>\n",
              "      <th>19</th>\n",
              "      <td>Realme C3 (Volcano Grey, 64 GB)</td>\n",
              "      <td>₹9,999</td>\n",
              "    </tr>\n",
              "    <tr>\n",
              "      <th>20</th>\n",
              "      <td>Realme C15 (Power Blue, 64 GB)</td>\n",
              "      <td>₹10,999₹12,99915% off</td>\n",
              "    </tr>\n",
              "    <tr>\n",
              "      <th>21</th>\n",
              "      <td>Realme C15 (Power Silver, 64 GB)</td>\n",
              "      <td>₹10,999₹12,99915% off</td>\n",
              "    </tr>\n",
              "    <tr>\n",
              "      <th>22</th>\n",
              "      <td>POCO X2 (Matrix Purple, 128 GB)</td>\n",
              "      <td>₹18,499₹19,9997% off</td>\n",
              "    </tr>\n",
              "    <tr>\n",
              "      <th>23</th>\n",
              "      <td>POCO M2 Pro (Green and Greener, 64 GB)</td>\n",
              "      <td>₹13,999₹16,99917% off</td>\n",
              "    </tr>\n",
              "  </tbody>\n",
              "</table>\n",
              "</div>"
            ],
            "text/plain": [
              "                                     Price                   Name\n",
              "0           Realme C11 (Rich Green, 32 GB)    ₹7,499₹8,99916% off\n",
              "1            Realme C11 (Rich Grey, 32 GB)    ₹7,499₹8,99916% off\n",
              "2              POCO M2 (Slate Blue, 64 GB)  ₹10,999₹12,99915% off\n",
              "3              Realme 7 (Mist Blue, 64 GB)  ₹14,999₹17,99916% off\n",
              "4             Realme 7 (Mist Blue, 128 GB)  ₹16,999₹20,99919% off\n",
              "5            Realme 7 (Mist White, 128 GB)  ₹16,999₹20,99919% off\n",
              "6             Realme 7 (Mist White, 64 GB)  ₹14,999₹17,99916% off\n",
              "7             POCO M2 (Slate Blue, 128 GB)  ₹12,499₹14,99916% off\n",
              "8             POCO M2 (Pitch Black, 64 GB)  ₹10,999₹12,99915% off\n",
              "9     Realme Narzo 10 (That Green, 128 GB)   ₹11,999₹12,9997% off\n",
              "10    Realme Narzo 10 (That White, 128 GB)   ₹11,999₹12,9997% off\n",
              "11           Realme 5i (Aqua Blue, 128 GB)                ₹11,999\n",
              "12     Realme Narzo 10 (That Blue, 128 GB)   ₹11,999₹12,9997% off\n",
              "13       Infinix Hot 9 (Ocean Wave, 64 GB)   ₹9,499₹11,99920% off\n",
              "14           Infinix Hot 9 (Violet, 64 GB)   ₹9,499₹11,99920% off\n",
              "15          Realme 6i (Lunar White, 64 GB)  ₹12,999₹14,99913% off\n",
              "16         POCO X2 (Atlantis Blue, 128 GB)   ₹18,499₹19,9997% off\n",
              "17        Realme 6i (Eclipse Black, 64 GB)  ₹12,999₹14,99913% off\n",
              "18          Realme C3 (Frozen Blue, 32 GB)                 ₹8,999\n",
              "19         Realme C3 (Volcano Grey, 64 GB)                 ₹9,999\n",
              "20          Realme C15 (Power Blue, 64 GB)  ₹10,999₹12,99915% off\n",
              "21        Realme C15 (Power Silver, 64 GB)  ₹10,999₹12,99915% off\n",
              "22         POCO X2 (Matrix Purple, 128 GB)   ₹18,499₹19,9997% off\n",
              "23  POCO M2 Pro (Green and Greener, 64 GB)  ₹13,999₹16,99917% off"
            ]
          },
          "metadata": {
            "tags": []
          },
          "execution_count": 69
        }
      ]
    },
    {
      "cell_type": "code",
      "metadata": {
        "id": "eJv9PpO4gRRR",
        "colab_type": "code",
        "colab": {}
      },
      "source": [
        ""
      ],
      "execution_count": null,
      "outputs": []
    },
    {
      "cell_type": "code",
      "metadata": {
        "id": "n1T3Vltyi_4i",
        "colab_type": "code",
        "colab": {}
      },
      "source": [
        ""
      ],
      "execution_count": null,
      "outputs": []
    },
    {
      "cell_type": "code",
      "metadata": {
        "id": "dciBRVZli_69",
        "colab_type": "code",
        "colab": {}
      },
      "source": [
        ""
      ],
      "execution_count": null,
      "outputs": []
    },
    {
      "cell_type": "code",
      "metadata": {
        "id": "IUmuAolTi_9c",
        "colab_type": "code",
        "colab": {}
      },
      "source": [
        ""
      ],
      "execution_count": null,
      "outputs": []
    },
    {
      "cell_type": "code",
      "metadata": {
        "id": "F_eziqDzjAAG",
        "colab_type": "code",
        "colab": {}
      },
      "source": [
        ""
      ],
      "execution_count": null,
      "outputs": []
    },
    {
      "cell_type": "code",
      "metadata": {
        "id": "QauyEpDOZsID",
        "colab_type": "code",
        "colab": {}
      },
      "source": [
        ""
      ],
      "execution_count": null,
      "outputs": []
    },
    {
      "cell_type": "code",
      "metadata": {
        "id": "zZqp9augZsOj",
        "colab_type": "code",
        "colab": {}
      },
      "source": [
        ""
      ],
      "execution_count": null,
      "outputs": []
    }
  ]
}